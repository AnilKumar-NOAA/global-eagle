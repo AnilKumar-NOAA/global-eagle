{
 "cells": [
  {
   "cell_type": "markdown",
   "id": "e5a79557",
   "metadata": {},
   "source": [
    "[![Open In Colab](https://colab.research.google.com/assets/colab-badge.svg)](https://colab.research.google.com/github/NOAA-EPIC/global-eagle/blob/feature/hello_world/examples/getting_started/colab_notebook_demo/pipeline_demo.ipynb)"
   ]
  },
  {
   "cell_type": "markdown",
   "id": "de9aa7f4",
   "metadata": {},
   "source": [
    "# Welcome to the ufs2arco + anemoi + wxvx pipeline!\n",
    "\n",
    "This notebook will guide you through this entire ML pipeline. Steps include:\n",
    "1) `ufs2arco` to creating training and validation datasets\n",
    "2) `anemoi-core` modules to train a graph-based model\n",
    "3) `anemoi-inference` to create a forecast from a model checkpoint\n",
    "4) `wxvx` to verify that forecast against GFS\n",
    "\n",
    "If possible, use an A100 runtime instance to run this notebook. Otherwise, try to use a T4. A CPU instance will work if a GPU is not available, but it will be very slow."
   ]
  },
  {
   "cell_type": "markdown",
   "id": "3d0a0dbc",
   "metadata": {},
   "source": [
    "### Step 1: Environment Setup\n",
    "Runtime: 3 minutes\n",
    "\n",
    "You will receive a popup after all packages are installed. Click \"restart session\" on the popup and continue on to the next step."
   ]
  },
  {
   "cell_type": "code",
   "execution_count": null,
   "id": "a5490612",
   "metadata": {
    "vscode": {
     "languageId": "plaintext"
    }
   },
   "outputs": [],
   "source": [
    "!pip install anemoi-datasets==0.5.25 anemoi-graphs==0.6.2 anemoi-models==0.8.1 anemoi-training==0.5.1 anemoi-inference==0.6.3 trimesh 'numpy<2.3' 'earthkit-data<0.14.0' ufs2arco"
   ]
  },
  {
   "cell_type": "markdown",
   "id": "3d7bbf06",
   "metadata": {},
   "source": [
    "Clone repository:"
   ]
  },
  {
   "cell_type": "code",
   "execution_count": null,
   "id": "6b04d60d",
   "metadata": {
    "vscode": {
     "languageId": "plaintext"
    }
   },
   "outputs": [],
   "source": [
    "!git clone -b feature/hello_world https://github.com/NOAA-EPIC/global-eagle.git\n",
    "\n",
    "#TODO -- right before merging to main we need to update this to not load branch."
   ]
  },
  {
   "cell_type": "markdown",
   "id": "f44e75fb",
   "metadata": {},
   "source": [
    "### Step 2: Create training and validation datasets with ufs2arco\n",
    "\n",
    "Runtime: 3 minutes\n",
    "\n",
    "`ufs2arco` is a python package that is designed to make NOAA forecast, reanalysis, and reforecast datasets more accessible for scientific analysis and machine learning model development. The name stems from its original intent, which was to transform output from the Unified Forecast System (UFS) into Analysis Ready, Cloud Optimized (ARCO; Abernathey et al., (2021)) format. However, the package now pulls data from a number of non-UFS sources, including GFS/GEFS before UFS was created, and even ECMWF's ERA5 dataset.\n",
    "\n",
    "To learn more about ufs2arco, check out the documentation: https://ufs2arco.readthedocs.io/en/latest/index.html\n",
    "\n",
    "While this cell is running, go into the `global-eagle/examples/getting_started/colab_notebook_demo/data` folder and look at `logs/logs.serial.out`. This will provide more insight into the dataset creation. "
   ]
  },
  {
   "cell_type": "code",
   "execution_count": null,
   "id": "29b12fc4",
   "metadata": {
    "vscode": {
     "languageId": "plaintext"
    }
   },
   "outputs": [],
   "source": [
    "!ufs2arco global-eagle/examples/getting_started/colab_notebook_demo/data/replay.yaml"
   ]
  },
  {
   "cell_type": "markdown",
   "id": "30c91856",
   "metadata": {},
   "source": [
    "After the dataset has completed, let's view it!\n",
    "\n",
    "You will notice that this format looks different than a \"typical\" netcdf or zarr file. The gridded data is flattened to be 1D, and we have calculated various statistics that will be used during normalization during training."
   ]
  },
  {
   "cell_type": "code",
   "execution_count": null,
   "id": "b3045f3b",
   "metadata": {
    "vscode": {
     "languageId": "plaintext"
    }
   },
   "outputs": [],
   "source": [
    "import xarray as xr\n",
    "\n",
    "ufs2arco_ds = xr.open_dataset(\"global-eagle/examples/getting_started/colab_notebook_demo/data/replay.zarr\")\n",
    "ufs2arco_ds"
   ]
  },
  {
   "cell_type": "markdown",
   "id": "70d7069d",
   "metadata": {},
   "source": [
    "### Step 3: Train a model with anemoi-core modules"
   ]
  },
  {
   "cell_type": "code",
   "execution_count": null,
   "id": "dd64dc25",
   "metadata": {
    "vscode": {
     "languageId": "plaintext"
    }
   },
   "outputs": [],
   "source": [
    "import os\n",
    "os.environ[\"ANEMOI_BASE_SEED\"] = \"42\"\n",
    "os.environ[\"SLURM_JOB_ID\"] = \"0\""
   ]
  },
  {
   "cell_type": "code",
   "execution_count": null,
   "id": "1c94c685",
   "metadata": {
    "vscode": {
     "languageId": "plaintext"
    }
   },
   "outputs": [],
   "source": [
    "%cd global-eagle/examples/getting_started/colab_notebook_demo/train/"
   ]
  },
  {
   "cell_type": "code",
   "execution_count": null,
   "id": "63903b02",
   "metadata": {
    "vscode": {
     "languageId": "plaintext"
    }
   },
   "outputs": [],
   "source": [
    "!anemoi-training train --config-name=config"
   ]
  },
  {
   "cell_type": "markdown",
   "id": "48fcff4e",
   "metadata": {},
   "source": [
    "### Step 4: Create a forecast with anemoi-inference"
   ]
  },
  {
   "cell_type": "code",
   "execution_count": null,
   "id": "2dc24e58",
   "metadata": {
    "vscode": {
     "languageId": "plaintext"
    }
   },
   "outputs": [],
   "source": [
    "%cd /content/global-eagle/examples/getting_started/colab_notebook_demo/inference/"
   ]
  },
  {
   "cell_type": "code",
   "execution_count": null,
   "id": "56b8f922",
   "metadata": {
    "vscode": {
     "languageId": "plaintext"
    }
   },
   "outputs": [],
   "source": [
    "!anemoi-inference run inference_config.yaml"
   ]
  },
  {
   "cell_type": "markdown",
   "id": "b905dc4e",
   "metadata": {},
   "source": [
    "View inference"
   ]
  },
  {
   "cell_type": "code",
   "execution_count": null,
   "id": "74a55f1f",
   "metadata": {
    "vscode": {
     "languageId": "plaintext"
    }
   },
   "outputs": [],
   "source": [
    "import xarray as xr\n",
    "ds = xr.open_dataset(\"2022-01-03T00.nc\")\n",
    "ds"
   ]
  },
  {
   "cell_type": "code",
   "execution_count": null,
   "id": "fa416743",
   "metadata": {
    "vscode": {
     "languageId": "plaintext"
    }
   },
   "outputs": [],
   "source": [
    "import matplotlib.pyplot as plt\n",
    "import numpy as np\n",
    "\n",
    "fhr = 1\n",
    "temp = ds['tmp2m'].isel(time=fhr).values\n",
    "lat = ds['latitude'].values\n",
    "lon = ds['longitude'].values\n",
    "\n",
    "# Plotplt.figure(figsize=(10, 6))\n",
    "plt.scatter(lon, lat, c=temp, s=10, cmap='coolwarm')\n",
    "plt.colorbar(label='2m Temperature')\n",
    "plt.title(f'2m Temperature at {ds[\"time\"][fhr].values}')\n",
    "plt.show()"
   ]
  },
  {
   "cell_type": "markdown",
   "id": "35c0e1c5",
   "metadata": {},
   "source": [
    "Postprocess inference"
   ]
  },
  {
   "cell_type": "code",
   "execution_count": null,
   "id": "f6b0d045",
   "metadata": {
    "vscode": {
     "languageId": "plaintext"
    }
   },
   "outputs": [],
   "source": [
    "!python postprocess.py"
   ]
  },
  {
   "cell_type": "code",
   "execution_count": null,
   "id": "f22b2d08",
   "metadata": {
    "vscode": {
     "languageId": "plaintext"
    }
   },
   "outputs": [],
   "source": [
    "ds_post = xr.open_dataset(\"2022-01-03T00_postprocessed.nc\")\n",
    "ds_post"
   ]
  },
  {
   "cell_type": "markdown",
   "id": "c61a1030",
   "metadata": {},
   "source": [
    "### Step 5: Verify the forecast against GFS with wxvx"
   ]
  },
  {
   "cell_type": "code",
   "execution_count": null,
   "id": "be932852",
   "metadata": {
    "vscode": {
     "languageId": "plaintext"
    }
   },
   "outputs": [],
   "source": [
    "!pip install -q condacolab\n",
    "import condacolab\n",
    "condacolab.install() "
   ]
  },
  {
   "cell_type": "markdown",
   "id": "03c060c3",
   "metadata": {},
   "source": [
    "Go to your terminal and run the following commands:\n",
    "\n",
    "`conda install -y -c ufs-community -c paul.madden wxvx`\n",
    "\n",
    "`conda activate wxvx`\n",
    "\n",
    "`cd global-eagle/examples/getting_started/colab_notebook_demo/verification/`\n",
    "\n",
    "`wxvx -c wxvx_config.yaml -t plots`"
   ]
  }
 ],
 "metadata": {
  "language_info": {
   "name": "python"
  }
 },
 "nbformat": 4,
 "nbformat_minor": 5
}
