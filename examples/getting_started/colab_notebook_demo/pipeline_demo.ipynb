{
 "cells": [
  {
   "cell_type": "markdown",
   "id": "e5a79557",
   "metadata": {},
   "source": [
    "[![Open In Colab](https://colab.research.google.com/assets/colab-badge.svg)](https://colab.research.google.com/github/NOAA-EPIC/global-eagle/blob/feature/hello_world/examples/getting_started/colab_notebook_demo/pipeline_demo.ipynb)"
   ]
  },
  {
   "cell_type": "markdown",
   "id": "de9aa7f4",
   "metadata": {},
   "source": [
    "# Welcome!"
   ]
  },
  {
   "cell_type": "markdown",
   "id": "3d0a0dbc",
   "metadata": {},
   "source": [
    "#### Install necessary libraries\n",
    "\n",
    "Runtime: ~ 8 minutes"
   ]
  },
  {
   "cell_type": "code",
   "execution_count": null,
   "id": "a5490612",
   "metadata": {
    "vscode": {
     "languageId": "plaintext"
    }
   },
   "outputs": [],
   "source": [
    "!pip install anemoi-datasets==0.5.25 anemoi-graphs==0.6.2 anemoi-models==0.8.1 anemoi-training==0.5.1 anemoi-inference==0.6.3 trimesh 'numpy<2.3' 'earthkit-data<0.14.0' ufs2arco"
   ]
  },
  {
   "cell_type": "markdown",
   "id": "3d7bbf06",
   "metadata": {},
   "source": [
    "#### Clone repository:"
   ]
  },
  {
   "cell_type": "code",
   "execution_count": null,
   "id": "6b04d60d",
   "metadata": {
    "vscode": {
     "languageId": "plaintext"
    }
   },
   "outputs": [],
   "source": [
    "!git clone -b feature/hello_world https://github.com/NOAA-EPIC/global-eagle.git\n",
    "\n",
    "#TODO -- right before merging to main we need to update this to not load branch."
   ]
  },
  {
   "cell_type": "markdown",
   "id": "f44e75fb",
   "metadata": {},
   "source": [
    "#### Create training and validation datasets using ufs2arco"
   ]
  },
  {
   "cell_type": "code",
   "execution_count": null,
   "id": "29b12fc4",
   "metadata": {
    "vscode": {
     "languageId": "plaintext"
    }
   },
   "outputs": [],
   "source": [
    "!ufs2arco global-eagle/examples/getting_started/colab_notebook_demo/data/replay.yaml"
   ]
  },
  {
   "cell_type": "markdown",
   "id": "70d7069d",
   "metadata": {},
   "source": [
    "#### Train Model"
   ]
  },
  {
   "cell_type": "code",
   "execution_count": null,
   "id": "dd64dc25",
   "metadata": {
    "vscode": {
     "languageId": "plaintext"
    }
   },
   "outputs": [],
   "source": [
    "import os\n",
    "os.environ[\"ANEMOI_BASE_SEED\"] = \"42\"\n",
    "os.environ[\"SLURM_JOB_ID\"] = \"0\""
   ]
  },
  {
   "cell_type": "code",
   "execution_count": null,
   "id": "1c94c685",
   "metadata": {
    "vscode": {
     "languageId": "plaintext"
    }
   },
   "outputs": [],
   "source": [
    "%cd global-eagle/examples/getting_started/colab_notebook_demo/train/"
   ]
  },
  {
   "cell_type": "code",
   "execution_count": null,
   "id": "63903b02",
   "metadata": {
    "vscode": {
     "languageId": "plaintext"
    }
   },
   "outputs": [],
   "source": [
    "!anemoi-training train --config-name=config"
   ]
  }
 ],
 "metadata": {
  "language_info": {
   "name": "python"
  }
 },
 "nbformat": 4,
 "nbformat_minor": 5
}
